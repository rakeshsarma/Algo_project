{
 "cells": [
  {
   "cell_type": "code",
   "execution_count": 91,
   "metadata": {
    "collapsed": false
   },
   "outputs": [
    {
     "name": "stdout",
     "output_type": "stream",
     "text": [
      "/Users/raki/Documents/Algo\n"
     ]
    }
   ],
   "source": [
    "import os\n",
    "print os.getcwd()\n",
    "import inspect\n",
    "import logging\n",
    "from datetime import datetime\n",
    "#Creating a logfile\n",
    "logging.basicConfig(filename='Weather_Data.log',level=logging.DEBUG)\n",
    "\n",
    "import pdb\n",
    "from django.utils.encoding import smart_str, smart_unicode"
   ]
  },
  {
   "cell_type": "code",
   "execution_count": 37,
   "metadata": {
    "collapsed": false
   },
   "outputs": [],
   "source": [
    "import json\n",
    "import pandas as pd\n",
    "from pprint import pprint\n",
    "pd.set_option('display.float_format', lambda x: '%.3f' % x)\n",
    "\n",
    "\n",
    "file_name = 'city_list.json'\n",
    "data = json.load(open('city_list.json'))\n",
    "#pprint (data)\n",
    "id1 = str(data[0]['id'])\n",
    "country = data[1]['country']\n",
    "\n",
    "f = open('countrycodes.txt','w+')\n",
    "f.write(id1)\n",
    "f.write(\",\")\n",
    "f.write(country)\n",
    "f.close()\n"
   ]
  },
  {
   "cell_type": "code",
   "execution_count": 80,
   "metadata": {
    "collapsed": false
   },
   "outputs": [
    {
     "name": "stdout",
     "output_type": "stream",
     "text": [
      "> \u001b[0;32m<ipython-input-78-844fa9bb9851>\u001b[0m(51)\u001b[0;36m<module>\u001b[0;34m()\u001b[0m\n",
      "\u001b[0;32m     49 \u001b[0;31m           \u001b[0;34m+\u001b[0m\u001b[0mrain_3h_ow\u001b[0m\u001b[0;34m+\u001b[0m\u001b[0;34m\",\"\u001b[0m\u001b[0;34m\u001b[0m\u001b[0m\n",
      "\u001b[0m\u001b[0;32m     50 \u001b[0;31m           \u001b[0;34m+\u001b[0m\u001b[0msnow_3h_ow\u001b[0m\u001b[0;34m+\u001b[0m\u001b[0;34m\",\"\u001b[0m\u001b[0;34m\u001b[0m\u001b[0m\n",
      "\u001b[0m\u001b[0;32m---> 51 \u001b[0;31m           +weather_description_ow+\"\\n\")\n",
      "\u001b[0m\u001b[0;32m     52 \u001b[0;31m\u001b[0;34m\u001b[0m\u001b[0m\n",
      "\u001b[0m\u001b[0;32m     53 \u001b[0;31m\u001b[0;34m\u001b[0m\u001b[0m\n",
      "\u001b[0m\n",
      "ipdb> 1\n",
      "1\n",
      "ipdb> 22\n",
      "22\n",
      "\n",
      "KeyboardInterrupt\n"
     ]
    }
   ],
   "source": [
    "%debug"
   ]
  },
  {
   "cell_type": "code",
   "execution_count": 38,
   "metadata": {
    "collapsed": false
   },
   "outputs": [
    {
     "name": "stdout",
     "output_type": "stream",
     "text": [
      "{u'country': u'UA', u'id': 707860, u'coord': {u'lat': 44.549999, u'lon': 34.283333}, u'name': u'Hurzuf'}\n"
     ]
    }
   ],
   "source": [
    "print data[0]"
   ]
  },
  {
   "cell_type": "markdown",
   "metadata": {},
   "source": [
    "#### Population is present in current_city_list_min.json"
   ]
  },
  {
   "cell_type": "code",
   "execution_count": 39,
   "metadata": {
    "collapsed": false
   },
   "outputs": [
    {
     "name": "stdout",
     "output_type": "stream",
     "text": [
      "{u'coord': {u'lat': 34.790878, u'lon': 48.570728},\n",
      " u'country': u'IR',\n",
      " u'geoname': {u'cl': u'P', u'code': u'PPL', u'parent': 132142},\n",
      " u'id': 14256,\n",
      " u'langs': [{u'de': u'Azad Shahr'},\n",
      "            {u'fa': u'\\u0622\\u0632\\u0627\\u062f\\u0634\\u0647\\u0631'}],\n",
      " u'name': u'Azadshahr',\n",
      " u'stat': {u'level': 1.0, u'population': 514102},\n",
      " u'stations': [{u'dist': 9, u'id': 7030, u'kf': 1}],\n",
      " u'zoom': 10}\n",
      "Printing population and city ID\n",
      "514102\n",
      "14256\n"
     ]
    }
   ],
   "source": [
    "\n",
    "city_data = json.load(open('current_city_list_min.json'))\n",
    "pprint (city_data[0])\n",
    "print (\"Printing population and city ID\")\n",
    "print (city_data[0]['stat']['population'])\n",
    "print (city_data[0]['id'])"
   ]
  },
  {
   "cell_type": "code",
   "execution_count": 40,
   "metadata": {
    "collapsed": true,
    "scrolled": false
   },
   "outputs": [],
   "source": [
    "f = open('countrycodes.txt','w+')\n",
    "header_line_country=\"Country\"\n",
    "header_line_id=\"City_ID\"\n",
    "header_line_population=\"Population\"\n",
    "f.write(header_line_country+\",\"+header_line_id+\",\"+header_line_population+\"\\n\" )\n",
    "for val in city_data:\n",
    "    write_line = (val['country']+ \",\" +str(val['id'])+\",\"+str(val['stat']['population'])+'\\n')\n",
    "    #print write_line\n",
    "    f.write(write_line)  \n",
    "f.close()    \n",
    "   "
   ]
  },
  {
   "cell_type": "code",
   "execution_count": 41,
   "metadata": {
    "collapsed": false
   },
   "outputs": [
    {
     "name": "stdout",
     "output_type": "stream",
     "text": [
      "(22635, 3)\n"
     ]
    },
    {
     "data": {
      "text/html": [
       "<div>\n",
       "<style scoped>\n",
       "    .dataframe tbody tr th:only-of-type {\n",
       "        vertical-align: middle;\n",
       "    }\n",
       "\n",
       "    .dataframe tbody tr th {\n",
       "        vertical-align: top;\n",
       "    }\n",
       "\n",
       "    .dataframe thead th {\n",
       "        text-align: right;\n",
       "    }\n",
       "</style>\n",
       "<table border=\"1\" class=\"dataframe\">\n",
       "  <thead>\n",
       "    <tr style=\"text-align: right;\">\n",
       "      <th></th>\n",
       "      <th>City_ID</th>\n",
       "      <th>Population</th>\n",
       "    </tr>\n",
       "  </thead>\n",
       "  <tbody>\n",
       "    <tr>\n",
       "      <th>count</th>\n",
       "      <td>22635.000</td>\n",
       "      <td>22635.000</td>\n",
       "    </tr>\n",
       "    <tr>\n",
       "      <th>mean</th>\n",
       "      <td>2538192.898</td>\n",
       "      <td>106584.477</td>\n",
       "    </tr>\n",
       "    <tr>\n",
       "      <th>std</th>\n",
       "      <td>1623655.534</td>\n",
       "      <td>400109.379</td>\n",
       "    </tr>\n",
       "    <tr>\n",
       "      <th>min</th>\n",
       "      <td>14256.000</td>\n",
       "      <td>2000.000</td>\n",
       "    </tr>\n",
       "    <tr>\n",
       "      <th>25%</th>\n",
       "      <td>1268009.500</td>\n",
       "      <td>21727.500</td>\n",
       "    </tr>\n",
       "    <tr>\n",
       "      <th>50%</th>\n",
       "      <td>2506795.000</td>\n",
       "      <td>35091.000</td>\n",
       "    </tr>\n",
       "    <tr>\n",
       "      <th>75%</th>\n",
       "      <td>3460104.500</td>\n",
       "      <td>72955.500</td>\n",
       "    </tr>\n",
       "    <tr>\n",
       "      <th>max</th>\n",
       "      <td>71296900.000</td>\n",
       "      <td>14608512.000</td>\n",
       "    </tr>\n",
       "  </tbody>\n",
       "</table>\n",
       "</div>"
      ],
      "text/plain": [
       "           City_ID   Population\n",
       "count    22635.000    22635.000\n",
       "mean   2538192.898   106584.477\n",
       "std    1623655.534   400109.379\n",
       "min      14256.000     2000.000\n",
       "25%    1268009.500    21727.500\n",
       "50%    2506795.000    35091.000\n",
       "75%    3460104.500    72955.500\n",
       "max   71296900.000 14608512.000"
      ]
     },
     "execution_count": 41,
     "metadata": {},
     "output_type": "execute_result"
    }
   ],
   "source": [
    "#importing data frame\n",
    "import pandas as pd\n",
    "df = pd.read_csv(\"countrycodes.txt\", sep=\",\")\n",
    "df.head()\n",
    "print df.shape\n",
    "df.describe()"
   ]
  },
  {
   "cell_type": "code",
   "execution_count": 42,
   "metadata": {
    "collapsed": true
   },
   "outputs": [],
   "source": [
    "top_50_df =df.sort_values(by=['Population'], ascending=False).head(50)"
   ]
  },
  {
   "cell_type": "code",
   "execution_count": 43,
   "metadata": {
    "collapsed": false
   },
   "outputs": [
    {
     "data": {
      "text/html": [
       "<div>\n",
       "<style scoped>\n",
       "    .dataframe tbody tr th:only-of-type {\n",
       "        vertical-align: middle;\n",
       "    }\n",
       "\n",
       "    .dataframe tbody tr th {\n",
       "        vertical-align: top;\n",
       "    }\n",
       "\n",
       "    .dataframe thead th {\n",
       "        text-align: right;\n",
       "    }\n",
       "</style>\n",
       "<table border=\"1\" class=\"dataframe\">\n",
       "  <thead>\n",
       "    <tr style=\"text-align: right;\">\n",
       "      <th></th>\n",
       "      <th>Country</th>\n",
       "      <th>City_ID</th>\n",
       "      <th>Population</th>\n",
       "    </tr>\n",
       "  </thead>\n",
       "  <tbody>\n",
       "    <tr>\n",
       "      <th>8526</th>\n",
       "      <td>CN</td>\n",
       "      <td>1796236.000</td>\n",
       "      <td>14608512.000</td>\n",
       "    </tr>\n",
       "    <tr>\n",
       "      <th>9085</th>\n",
       "      <td>JP</td>\n",
       "      <td>1850144.000</td>\n",
       "      <td>12445327.000</td>\n",
       "    </tr>\n",
       "    <tr>\n",
       "      <th>4022</th>\n",
       "      <td>PK</td>\n",
       "      <td>1174872.000</td>\n",
       "      <td>11624219.000</td>\n",
       "    </tr>\n",
       "    <tr>\n",
       "      <th>3058</th>\n",
       "      <td>TR</td>\n",
       "      <td>745042.000</td>\n",
       "      <td>11581707.000</td>\n",
       "    </tr>\n",
       "    <tr>\n",
       "      <th>3059</th>\n",
       "      <td>TR</td>\n",
       "      <td>745044.000</td>\n",
       "      <td>11174257.000</td>\n",
       "    </tr>\n",
       "    <tr>\n",
       "      <th>6136</th>\n",
       "      <td>IN</td>\n",
       "      <td>1273294.000</td>\n",
       "      <td>10927986.000</td>\n",
       "    </tr>\n",
       "    <tr>\n",
       "      <th>4190</th>\n",
       "      <td>BD</td>\n",
       "      <td>1185241.000</td>\n",
       "      <td>10356500.000</td>\n",
       "    </tr>\n",
       "    <tr>\n",
       "      <th>8931</th>\n",
       "      <td>KR</td>\n",
       "      <td>1835848.000</td>\n",
       "      <td>10349312.000</td>\n",
       "    </tr>\n",
       "    <tr>\n",
       "      <th>16631</th>\n",
       "      <td>BR</td>\n",
       "      <td>3448439.000</td>\n",
       "      <td>10021295.000</td>\n",
       "    </tr>\n",
       "    <tr>\n",
       "      <th>10699</th>\n",
       "      <td>NG</td>\n",
       "      <td>2332459.000</td>\n",
       "      <td>9000000.000</td>\n",
       "    </tr>\n",
       "    <tr>\n",
       "      <th>7637</th>\n",
       "      <td>ID</td>\n",
       "      <td>1642911.000</td>\n",
       "      <td>8540121.000</td>\n",
       "    </tr>\n",
       "    <tr>\n",
       "      <th>9086</th>\n",
       "      <td>JP</td>\n",
       "      <td>1850147.000</td>\n",
       "      <td>8336599.000</td>\n",
       "    </tr>\n",
       "    <tr>\n",
       "      <th>8317</th>\n",
       "      <td>CN</td>\n",
       "      <td>1783873.000</td>\n",
       "      <td>8263100.000</td>\n",
       "    </tr>\n",
       "    <tr>\n",
       "      <th>21002</th>\n",
       "      <td>US</td>\n",
       "      <td>5128581.000</td>\n",
       "      <td>8175133.000</td>\n",
       "    </tr>\n",
       "    <tr>\n",
       "      <th>7741</th>\n",
       "      <td>TW</td>\n",
       "      <td>1668341.000</td>\n",
       "      <td>7871900.000</td>\n",
       "    </tr>\n",
       "    <tr>\n",
       "      <th>10612</th>\n",
       "      <td>CD</td>\n",
       "      <td>2314302.000</td>\n",
       "      <td>7785965.000</td>\n",
       "    </tr>\n",
       "    <tr>\n",
       "      <th>18877</th>\n",
       "      <td>PE</td>\n",
       "      <td>3936456.000</td>\n",
       "      <td>7737002.000</td>\n",
       "    </tr>\n",
       "    <tr>\n",
       "      <th>1417</th>\n",
       "      <td>EG</td>\n",
       "      <td>360630.000</td>\n",
       "      <td>7734614.000</td>\n",
       "    </tr>\n",
       "    <tr>\n",
       "      <th>12124</th>\n",
       "      <td>GB</td>\n",
       "      <td>2643741.000</td>\n",
       "      <td>7556900.000</td>\n",
       "    </tr>\n",
       "    <tr>\n",
       "      <th>184</th>\n",
       "      <td>IR</td>\n",
       "      <td>112931.000</td>\n",
       "      <td>7153309.000</td>\n",
       "    </tr>\n",
       "    <tr>\n",
       "      <th>8590</th>\n",
       "      <td>CN</td>\n",
       "      <td>1800146.000</td>\n",
       "      <td>7150000.000</td>\n",
       "    </tr>\n",
       "    <tr>\n",
       "      <th>8877</th>\n",
       "      <td>HK</td>\n",
       "      <td>1819729.000</td>\n",
       "      <td>7012738.000</td>\n",
       "    </tr>\n",
       "    <tr>\n",
       "      <th>3987</th>\n",
       "      <td>PK</td>\n",
       "      <td>1172451.000</td>\n",
       "      <td>6310888.000</td>\n",
       "    </tr>\n",
       "    <tr>\n",
       "      <th>22007</th>\n",
       "      <td>US</td>\n",
       "      <td>5815135.000</td>\n",
       "      <td>6271775.000</td>\n",
       "    </tr>\n",
       "    <tr>\n",
       "      <th>16724</th>\n",
       "      <td>BR</td>\n",
       "      <td>3451190.000</td>\n",
       "      <td>6023699.000</td>\n",
       "    </tr>\n",
       "    <tr>\n",
       "      <th>82</th>\n",
       "      <td>IQ</td>\n",
       "      <td>98182.000</td>\n",
       "      <td>5672513.000</td>\n",
       "    </tr>\n",
       "    <tr>\n",
       "      <th>8491</th>\n",
       "      <td>CN</td>\n",
       "      <td>1793724.000</td>\n",
       "      <td>5499000.000</td>\n",
       "    </tr>\n",
       "    <tr>\n",
       "      <th>7354</th>\n",
       "      <td>TH</td>\n",
       "      <td>1609350.000</td>\n",
       "      <td>5104476.000</td>\n",
       "    </tr>\n",
       "    <tr>\n",
       "      <th>6477</th>\n",
       "      <td>IN</td>\n",
       "      <td>1277333.000</td>\n",
       "      <td>5104047.000</td>\n",
       "    </tr>\n",
       "    <tr>\n",
       "      <th>9638</th>\n",
       "      <td>CN</td>\n",
       "      <td>1927639.000</td>\n",
       "      <td>5000000.000</td>\n",
       "    </tr>\n",
       "    <tr>\n",
       "      <th>1756</th>\n",
       "      <td>RU</td>\n",
       "      <td>498817.000</td>\n",
       "      <td>4953219.000</td>\n",
       "    </tr>\n",
       "    <tr>\n",
       "      <th>18744</th>\n",
       "      <td>CL</td>\n",
       "      <td>3871336.000</td>\n",
       "      <td>4837295.000</td>\n",
       "    </tr>\n",
       "    <tr>\n",
       "      <th>8665</th>\n",
       "      <td>CN</td>\n",
       "      <td>1804879.000</td>\n",
       "      <td>4800000.000</td>\n",
       "    </tr>\n",
       "    <tr>\n",
       "      <th>6268</th>\n",
       "      <td>IN</td>\n",
       "      <td>1275004.000</td>\n",
       "      <td>4631392.000</td>\n",
       "    </tr>\n",
       "    <tr>\n",
       "      <th>22212</th>\n",
       "      <td>CA</td>\n",
       "      <td>6167865.000</td>\n",
       "      <td>4612191.000</td>\n",
       "    </tr>\n",
       "    <tr>\n",
       "      <th>6745</th>\n",
       "      <td>MM</td>\n",
       "      <td>1298824.000</td>\n",
       "      <td>4477638.000</td>\n",
       "    </tr>\n",
       "    <tr>\n",
       "      <th>5407</th>\n",
       "      <td>IN</td>\n",
       "      <td>1264527.000</td>\n",
       "      <td>4328063.000</td>\n",
       "    </tr>\n",
       "    <tr>\n",
       "      <th>8454</th>\n",
       "      <td>CN</td>\n",
       "      <td>1791247.000</td>\n",
       "      <td>4184206.000</td>\n",
       "    </tr>\n",
       "    <tr>\n",
       "      <th>8825</th>\n",
       "      <td>CN</td>\n",
       "      <td>1814906.000</td>\n",
       "      <td>3967028.000</td>\n",
       "    </tr>\n",
       "    <tr>\n",
       "      <th>8831</th>\n",
       "      <td>CN</td>\n",
       "      <td>1815286.000</td>\n",
       "      <td>3950437.000</td>\n",
       "    </tr>\n",
       "    <tr>\n",
       "      <th>4219</th>\n",
       "      <td>BD</td>\n",
       "      <td>1205733.000</td>\n",
       "      <td>3920222.000</td>\n",
       "    </tr>\n",
       "    <tr>\n",
       "      <th>1428</th>\n",
       "      <td>EG</td>\n",
       "      <td>361058.000</td>\n",
       "      <td>3811516.000</td>\n",
       "    </tr>\n",
       "    <tr>\n",
       "      <th>21505</th>\n",
       "      <td>US</td>\n",
       "      <td>5368361.000</td>\n",
       "      <td>3792621.000</td>\n",
       "    </tr>\n",
       "    <tr>\n",
       "      <th>8477</th>\n",
       "      <td>CN</td>\n",
       "      <td>1792947.000</td>\n",
       "      <td>3766207.000</td>\n",
       "    </tr>\n",
       "    <tr>\n",
       "      <th>6661</th>\n",
       "      <td>IN</td>\n",
       "      <td>1279233.000</td>\n",
       "      <td>3719710.000</td>\n",
       "    </tr>\n",
       "    <tr>\n",
       "      <th>8939</th>\n",
       "      <td>KR</td>\n",
       "      <td>1838524.000</td>\n",
       "      <td>3678555.000</td>\n",
       "    </tr>\n",
       "    <tr>\n",
       "      <th>10541</th>\n",
       "      <td>CI</td>\n",
       "      <td>2293538.000</td>\n",
       "      <td>3677115.000</td>\n",
       "    </tr>\n",
       "    <tr>\n",
       "      <th>10713</th>\n",
       "      <td>NG</td>\n",
       "      <td>2335204.000</td>\n",
       "      <td>3626068.000</td>\n",
       "    </tr>\n",
       "    <tr>\n",
       "      <th>5839</th>\n",
       "      <td>IN</td>\n",
       "      <td>1269843.000</td>\n",
       "      <td>3597816.000</td>\n",
       "    </tr>\n",
       "    <tr>\n",
       "      <th>8553</th>\n",
       "      <td>CN</td>\n",
       "      <td>1798425.000</td>\n",
       "      <td>3590000.000</td>\n",
       "    </tr>\n",
       "  </tbody>\n",
       "</table>\n",
       "</div>"
      ],
      "text/plain": [
       "      Country     City_ID   Population\n",
       "8526       CN 1796236.000 14608512.000\n",
       "9085       JP 1850144.000 12445327.000\n",
       "4022       PK 1174872.000 11624219.000\n",
       "3058       TR  745042.000 11581707.000\n",
       "3059       TR  745044.000 11174257.000\n",
       "6136       IN 1273294.000 10927986.000\n",
       "4190       BD 1185241.000 10356500.000\n",
       "8931       KR 1835848.000 10349312.000\n",
       "16631      BR 3448439.000 10021295.000\n",
       "10699      NG 2332459.000  9000000.000\n",
       "7637       ID 1642911.000  8540121.000\n",
       "9086       JP 1850147.000  8336599.000\n",
       "8317       CN 1783873.000  8263100.000\n",
       "21002      US 5128581.000  8175133.000\n",
       "7741       TW 1668341.000  7871900.000\n",
       "10612      CD 2314302.000  7785965.000\n",
       "18877      PE 3936456.000  7737002.000\n",
       "1417       EG  360630.000  7734614.000\n",
       "12124      GB 2643741.000  7556900.000\n",
       "184        IR  112931.000  7153309.000\n",
       "8590       CN 1800146.000  7150000.000\n",
       "8877       HK 1819729.000  7012738.000\n",
       "3987       PK 1172451.000  6310888.000\n",
       "22007      US 5815135.000  6271775.000\n",
       "16724      BR 3451190.000  6023699.000\n",
       "82         IQ   98182.000  5672513.000\n",
       "8491       CN 1793724.000  5499000.000\n",
       "7354       TH 1609350.000  5104476.000\n",
       "6477       IN 1277333.000  5104047.000\n",
       "9638       CN 1927639.000  5000000.000\n",
       "1756       RU  498817.000  4953219.000\n",
       "18744      CL 3871336.000  4837295.000\n",
       "8665       CN 1804879.000  4800000.000\n",
       "6268       IN 1275004.000  4631392.000\n",
       "22212      CA 6167865.000  4612191.000\n",
       "6745       MM 1298824.000  4477638.000\n",
       "5407       IN 1264527.000  4328063.000\n",
       "8454       CN 1791247.000  4184206.000\n",
       "8825       CN 1814906.000  3967028.000\n",
       "8831       CN 1815286.000  3950437.000\n",
       "4219       BD 1205733.000  3920222.000\n",
       "1428       EG  361058.000  3811516.000\n",
       "21505      US 5368361.000  3792621.000\n",
       "8477       CN 1792947.000  3766207.000\n",
       "6661       IN 1279233.000  3719710.000\n",
       "8939       KR 1838524.000  3678555.000\n",
       "10541      CI 2293538.000  3677115.000\n",
       "10713      NG 2335204.000  3626068.000\n",
       "5839       IN 1269843.000  3597816.000\n",
       "8553       CN 1798425.000  3590000.000"
      ]
     },
     "execution_count": 43,
     "metadata": {},
     "output_type": "execute_result"
    }
   ],
   "source": [
    "top_50_df"
   ]
  },
  {
   "cell_type": "code",
   "execution_count": 44,
   "metadata": {
    "collapsed": true
   },
   "outputs": [],
   "source": [
    "#writing top 50 cities to a doc"
   ]
  },
  {
   "cell_type": "code",
   "execution_count": 77,
   "metadata": {
    "collapsed": true
   },
   "outputs": [],
   "source": [
    "header_line_country=\"Country_OW\"\n",
    "header_line_id=\"City_ID_OW\"\n",
    "header_line_city_name=\"City_Name_OW\"\n",
    "header_line_date_time = \"Local_date_time_OW\"\n",
    "header_line_temp = \"Temparature_OW\"\n",
    "header_line_pressure = \"Pressure_OW\"\n",
    "header_line_humidity = \"Humidity_percent_OW\"\n",
    "header_line_clouds = \"Clouds_all_OW\"\n",
    "header_line_wind = \"Wind_Speed_OW\"\n",
    "header_line_rain = \"Rain_3h_OW\"\n",
    "header_line_snow = \"Snow_3h_OW\"\n",
    "header_line_weather_description = \"Weather_Description_OW\"\n",
    "f = open('OpenWeather_data.txt','w+')\n",
    "\n",
    "f.write(header_line_country+\",\"\n",
    "        +header_line_id+\",\"\n",
    "        +header_line_city_name+\",\"\n",
    "        +header_line_date_time+\",\"\n",
    "        +header_line_temp+\",\"\n",
    "        +header_line_pressure+\",\"\n",
    "        +header_line_humidity+\",\"\n",
    "        +header_line_clouds+\",\"\n",
    "        +header_line_wind+\",\"\n",
    "        +header_line_rain+\",\"\n",
    "        +header_line_snow+\",\"\n",
    "        +header_line_weather_description+'\\n')\n",
    "\n",
    "    \n",
    "f.close()"
   ]
  },
  {
   "cell_type": "code",
   "execution_count": 95,
   "metadata": {
    "collapsed": false
   },
   "outputs": [
    {
     "name": "stdout",
     "output_type": "stream",
     "text": [
      "i am here1\n",
      "[1796236, 1850144, 1174872, 745042, 745044, 1273294, 1185241, 1835848, 3448439, 2332459, 1642911, 1850147, 1783873, 5128581, 1668341, 2314302, 3936456, 360630, 2643741, 112931, 1800146, 1819729, 1172451, 5815135, 3451190, 98182, 1793724, 1609350, 1277333, 1927639, 498817, 3871336, 1804879, 1275004, 6167865, 1298824, 1264527, 1791247, 1814906, 1815286, 1205733, 361058, 5368361, 1792947, 1279233, 1838524, 2293538, 2335204, 1269843, 1798425]\n",
      "I am here\n",
      "writing city_id1796236\n",
      "I am here\n",
      "writing city_id1850144\n",
      "I am here\n",
      "writing city_id1174872\n",
      "I am here\n",
      "writing city_id745042\n",
      "I am here\n",
      "writing city_id745044\n",
      "I am here\n",
      "writing city_id1273294\n",
      "I am here\n",
      "writing city_id1185241\n",
      "I am here\n",
      "writing city_id1835848\n",
      "I am here\n",
      "writing city_id3448439\n",
      "I am here\n",
      "writing city_id2332459\n",
      "I am here\n",
      "writing city_id1642911\n",
      "I am here\n",
      "writing city_id1850147\n",
      "I am here\n",
      "writing city_id1783873\n",
      "I am here\n",
      "writing city_id5128581\n",
      "I am here\n",
      "writing city_id1668341\n",
      "I am here\n",
      "writing city_id2314302\n",
      "I am here\n",
      "writing city_id3936456\n",
      "I am here\n",
      "writing city_id360630\n",
      "I am here\n",
      "writing city_id2643741\n",
      "I am here\n",
      "writing city_id112931\n",
      "I am here\n",
      "writing city_id1800146\n",
      "I am here\n",
      "writing city_id1819729\n",
      "I am here\n",
      "writing city_id1172451\n",
      "I am here\n",
      "writing city_id5815135\n",
      "I am here\n",
      "writing city_id3451190\n",
      "I am here\n",
      "writing city_id98182\n",
      "I am here\n",
      "writing city_id1793724\n",
      "I am here\n",
      "writing city_id1609350\n",
      "I am here\n",
      "writing city_id1277333\n",
      "I am here\n",
      "writing city_id1927639\n",
      "I am here\n",
      "writing city_id498817\n",
      "I am here\n",
      "writing city_id3871336\n",
      "I am here\n",
      "writing city_id1804879\n",
      "I am here\n",
      "writing city_id1275004\n",
      "I am here\n",
      "writing city_id6167865\n",
      "I am here\n",
      "writing city_id1298824\n",
      "I am here\n",
      "writing city_id1264527\n",
      "I am here\n",
      "writing city_id1791247\n",
      "I am here\n",
      "writing city_id1814906\n",
      "I am here\n",
      "writing city_id1815286\n",
      "I am here\n",
      "writing city_id1205733\n",
      "I am here\n",
      "writing city_id361058\n",
      "I am here\n",
      "writing city_id5368361\n",
      "I am here\n",
      "writing city_id1792947\n",
      "I am here\n",
      "writing city_id1279233\n",
      "I am here\n",
      "writing city_id1838524\n",
      "I am here\n",
      "writing city_id2293538\n",
      "I am here\n",
      "writing city_id2335204\n",
      "I am here\n",
      "writing city_id1269843\n",
      "I am here\n",
      "writing city_id1798425\n"
     ]
    }
   ],
   "source": [
    "import requests\n",
    "#api_url = \"api.openweathermap.org/data/2.5/forecast/daily?id=1796236&appid=fee946e78e969fefcc503b47b1108419\"\n",
    "list_of_cities = top_50_df['City_ID'].tolist()\n",
    "list_of_cities = [int(city) for city in list_of_cities]\n",
    "print (\"i am here1\")\n",
    "print list_of_cities\n",
    "for city_id in list_of_cities:\n",
    "    logging.info(\"Fetching data for City_id\"+str(city_id))\n",
    "    api_url= \"http://api.openweathermap.org/data/2.5/forecast?id=\"+str(city_id)+\"&APPID=fee946e78e969fefcc503b47b1108419\"\n",
    "    logging.info(api_url)\n",
    "    response = requests.get(api_url)\n",
    "    logging.info(response.status_code)\n",
    "    print(\"I am here\")\n",
    "    #print response.text\n",
    "    data1 = response.json()\n",
    "    #print list_of_cities\n",
    "    f = open('OpenWeather_data.txt','a+')\n",
    "    count = data1['cnt']\n",
    "    print (\"writing city_id\"+str(city_id))\n",
    "    logging.info(str(datetime.now())+\"The number of rows to be fetched is \"+str(count)+\" for \"+str(city_id))\n",
    "    for val in range(0,count,1):\n",
    "        city_country_ow = smart_str(data1['city']['country'])\n",
    "        city_id_ow = str(data1['city']['id'])\n",
    "        city_name_ow = smart_str(data1['city']['name'])    \n",
    "        datetime_ow = str(data1['list'][val]['dt_txt'])\n",
    "        temp_ow = str(data1['list'][val]['main']['temp'])\n",
    "        pressure_ow = str(data1['list'][val]['main']['pressure'])\n",
    "        humidity_percent_ow = str(data1['list'][val]['main']['humidity'])\n",
    "        clouds_all_ow = str(data1['list'][val]['clouds']['all'])\n",
    "        wind_speed_ow = str(data1['list'][val]['wind']['speed'])\n",
    "\n",
    "        try:\n",
    "            rain_3h_ow = str(data1['list'][val]['rain']['3h'])\n",
    "        except KeyError:\n",
    "            logging.debug(str(datetime.now())+\"Key Error Encountered setting rain to Zero for \"+str(datetime_ow))\n",
    "            rain_3h_ow = str(0.0)\n",
    "        try:\n",
    "            snow_3h_ow = str(data1['list'][val]['snow']['3h'])\n",
    "        except KeyError:    \n",
    "            logging.debug(str(datetime.now())+\"Key Error Encountered setting snow to Zero for \"+str(datetime_ow))\n",
    "            snow_3h_ow = str(0.0)\n",
    "        weather_description_ow = smart_str(data1['list'][val]['weather'][0]['description'])    \n",
    "        f.write(city_country_ow+\",\"\n",
    "           +city_id_ow+\",\"\n",
    "           +city_name_ow+\",\"\n",
    "           +datetime_ow+\",\"\n",
    "           +temp_ow+\",\"\n",
    "           +pressure_ow+\",\"\n",
    "           +humidity_percent_ow+\",\"\n",
    "           +clouds_all_ow+\",\"\n",
    "           +wind_speed_ow+\",\"\n",
    "           +rain_3h_ow+\",\"\n",
    "           +snow_3h_ow+\",\"\n",
    "           +weather_description_ow+\"\\n\")\n",
    "    \n",
    "    \n",
    "f.close()"
   ]
  },
  {
   "cell_type": "code",
   "execution_count": 85,
   "metadata": {
    "collapsed": false
   },
   "outputs": [
    {
     "name": "stdout",
     "output_type": "stream",
     "text": [
      "clear sky\n"
     ]
    }
   ],
   "source": [
    "weather_description_ow = str(data1['list'][val]['weather'][0]['description']) \n",
    "print weather_description_ow"
   ]
  },
  {
   "cell_type": "code",
   "execution_count": 93,
   "metadata": {
    "collapsed": false
   },
   "outputs": [
    {
     "name": "stdout",
     "output_type": "stream",
     "text": [
      "I am here\n",
      "{u'city': {u'country': u'JP', u'id': 1850144, u'coord': {u'lat': 35.6895, u'lon': 139.6917}, u'name': u'T\\u014dky\\u014d-to'}, u'message': 0.0092, u'list': [{u'clouds': {u'all': 0}, u'sys': {u'pod': u'd'}, u'dt_txt': u'2018-03-14 21:00:00', u'weather': [{u'main': u'Clear', u'id': 800, u'icon': u'01d', u'description': u'clear sky'}], u'dt': 1521061200, u'main': {u'temp_kf': -1.51, u'temp': 282.06, u'grnd_level': 1030.74, u'temp_max': 283.574, u'sea_level': 1034.75, u'humidity': 100, u'pressure': 1030.74, u'temp_min': 282.06}, u'wind': {u'speed': 2.12, u'deg': 227.003}}, {u'clouds': {u'all': 0}, u'sys': {u'pod': u'd'}, u'dt_txt': u'2018-03-15 00:00:00', u'weather': [{u'main': u'Clear', u'id': 800, u'icon': u'01d', u'description': u'clear sky'}], u'dt': 1521072000, u'main': {u'temp_kf': -1.14, u'temp': 286.95, u'grnd_level': 1030.88, u'temp_max': 288.081, u'sea_level': 1034.78, u'humidity': 89, u'pressure': 1030.88, u'temp_min': 286.95}, u'wind': {u'speed': 2.88, u'deg': 219.501}}, {u'clouds': {u'all': 20}, u'sys': {u'pod': u'd'}, u'dt_txt': u'2018-03-15 03:00:00', u'weather': [{u'main': u'Clouds', u'id': 801, u'icon': u'02d', u'description': u'few clouds'}], u'dt': 1521082800, u'main': {u'temp_kf': -0.76, u'temp': 290.14, u'grnd_level': 1029.34, u'temp_max': 290.899, u'sea_level': 1033.18, u'humidity': 69, u'pressure': 1029.34, u'temp_min': 290.14}, u'wind': {u'speed': 6.73, u'deg': 213.508}}, {u'clouds': {u'all': 44}, u'sys': {u'pod': u'd'}, u'dt_txt': u'2018-03-15 06:00:00', u'weather': [{u'main': u'Clouds', u'id': 802, u'icon': u'03d', u'description': u'scattered clouds'}], u'dt': 1521093600, u'main': {u'temp_kf': -0.38, u'temp': 289.98, u'grnd_level': 1027.07, u'temp_max': 290.358, u'sea_level': 1030.9, u'humidity': 67, u'pressure': 1027.07, u'temp_min': 289.98}, u'wind': {u'speed': 8.96, u'deg': 211.008}}, {u'clouds': {u'all': 20}, u'sys': {u'pod': u'n'}, u'dt_txt': u'2018-03-15 09:00:00', u'weather': [{u'main': u'Clouds', u'id': 801, u'icon': u'02n', u'description': u'few clouds'}], u'dt': 1521104400, u'main': {u'temp_kf': 0, u'temp': 288.564, u'grnd_level': 1026.58, u'temp_max': 288.564, u'sea_level': 1030.31, u'humidity': 70, u'pressure': 1026.58, u'temp_min': 288.564}, u'wind': {u'speed': 9.15, u'deg': 213.505}}, {u'clouds': {u'all': 12}, u'sys': {u'pod': u'n'}, u'dt_txt': u'2018-03-15 12:00:00', u'weather': [{u'main': u'Clouds', u'id': 801, u'icon': u'02n', u'description': u'few clouds'}], u'dt': 1521115200, u'main': {u'temp_kf': 0, u'temp': 287.708, u'grnd_level': 1026.3, u'temp_max': 287.708, u'sea_level': 1030.06, u'humidity': 75, u'pressure': 1026.3, u'temp_min': 287.708}, u'wind': {u'speed': 9.42, u'deg': 217.501}}, {u'clouds': {u'all': 68}, u'sys': {u'pod': u'n'}, u'dt_txt': u'2018-03-15 15:00:00', u'weather': [{u'main': u'Clouds', u'id': 803, u'icon': u'04n', u'description': u'broken clouds'}], u'dt': 1521126000, u'main': {u'temp_kf': 0, u'temp': 287.735, u'grnd_level': 1025.66, u'temp_max': 287.735, u'sea_level': 1029.28, u'humidity': 77, u'pressure': 1025.66, u'temp_min': 287.735}, u'wind': {u'speed': 9.37, u'deg': 221.501}}, {u'clouds': {u'all': 88}, u'rain': {u'3h': 0.005}, u'sys': {u'pod': u'n'}, u'dt_txt': u'2018-03-15 18:00:00', u'weather': [{u'main': u'Rain', u'id': 500, u'icon': u'10n', u'description': u'light rain'}], u'dt': 1521136800, u'main': {u'temp_kf': 0, u'temp': 288.074, u'grnd_level': 1023.49, u'temp_max': 288.074, u'sea_level': 1027.18, u'humidity': 79, u'pressure': 1023.49, u'temp_min': 288.074}, u'wind': {u'speed': 8.96, u'deg': 220.003}}, {u'clouds': {u'all': 76}, u'rain': {u'3h': 0.15}, u'sys': {u'pod': u'd'}, u'dt_txt': u'2018-03-15 21:00:00', u'weather': [{u'main': u'Rain', u'id': 500, u'icon': u'10d', u'description': u'light rain'}], u'dt': 1521147600, u'main': {u'temp_kf': 0, u'temp': 288.089, u'grnd_level': 1022.26, u'temp_max': 288.089, u'sea_level': 1026.03, u'humidity': 86, u'pressure': 1022.26, u'temp_min': 288.089}, u'wind': {u'speed': 8.44, u'deg': 214.503}}, {u'clouds': {u'all': 44}, u'rain': {u'3h': 0.035}, u'sys': {u'pod': u'd'}, u'dt_txt': u'2018-03-16 00:00:00', u'weather': [{u'main': u'Rain', u'id': 500, u'icon': u'10d', u'description': u'light rain'}], u'dt': 1521158400, u'main': {u'temp_kf': 0, u'temp': 289.775, u'grnd_level': 1021.56, u'temp_max': 289.775, u'sea_level': 1025.47, u'humidity': 74, u'pressure': 1021.56, u'temp_min': 289.775}, u'wind': {u'speed': 8.89, u'deg': 223.511}}, {u'clouds': {u'all': 80}, u'rain': {u'3h': 0.02}, u'sys': {u'pod': u'd'}, u'dt_txt': u'2018-03-16 03:00:00', u'weather': [{u'main': u'Rain', u'id': 500, u'icon': u'10d', u'description': u'light rain'}], u'dt': 1521169200, u'main': {u'temp_kf': 0, u'temp': 290.724, u'grnd_level': 1021.67, u'temp_max': 290.724, u'sea_level': 1025.61, u'humidity': 74, u'pressure': 1021.67, u'temp_min': 290.724}, u'wind': {u'speed': 5.89, u'deg': 229.502}}, {u'clouds': {u'all': 100}, u'rain': {u'3h': 2.005}, u'sys': {u'pod': u'd'}, u'dt_txt': u'2018-03-16 06:00:00', u'weather': [{u'main': u'Rain', u'id': 500, u'icon': u'10d', u'description': u'light rain'}], u'dt': 1521180000, u'main': {u'temp_kf': 0, u'temp': 287.3, u'grnd_level': 1022.97, u'temp_max': 287.3, u'sea_level': 1026.93, u'humidity': 99, u'pressure': 1022.97, u'temp_min': 287.3}, u'wind': {u'speed': 4.14, u'deg': 2.00119}}, {u'clouds': {u'all': 100}, u'rain': {u'3h': 3.215}, u'sys': {u'pod': u'n'}, u'dt_txt': u'2018-03-16 09:00:00', u'weather': [{u'main': u'Rain', u'id': 501, u'icon': u'10n', u'description': u'moderate rain'}], u'dt': 1521190800, u'main': {u'temp_kf': 0, u'temp': 283.212, u'grnd_level': 1027.02, u'temp_max': 283.212, u'sea_level': 1030.81, u'humidity': 100, u'pressure': 1027.02, u'temp_min': 283.212}, u'wind': {u'speed': 5.58, u'deg': 32.0056}}, {u'clouds': {u'all': 92}, u'rain': {u'3h': 1.29}, u'sys': {u'pod': u'n'}, u'dt_txt': u'2018-03-16 12:00:00', u'weather': [{u'main': u'Rain', u'id': 500, u'icon': u'10n', u'description': u'light rain'}], u'dt': 1521201600, u'main': {u'temp_kf': 0, u'temp': 280.136, u'grnd_level': 1030.72, u'temp_max': 280.136, u'sea_level': 1034.6, u'humidity': 100, u'pressure': 1030.72, u'temp_min': 280.136}, u'wind': {u'speed': 6.91, u'deg': 42.5009}}, {u'clouds': {u'all': 92}, u'rain': {u'3h': 0.895}, u'sys': {u'pod': u'n'}, u'dt_txt': u'2018-03-16 15:00:00', u'weather': [{u'main': u'Rain', u'id': 500, u'icon': u'10n', u'description': u'light rain'}], u'dt': 1521212400, u'main': {u'temp_kf': 0, u'temp': 278.084, u'grnd_level': 1033.39, u'temp_max': 278.084, u'sea_level': 1037.27, u'humidity': 100, u'pressure': 1033.39, u'temp_min': 278.084}, u'wind': {u'speed': 7.33, u'deg': 42.0053}}, {u'clouds': {u'all': 92}, u'rain': {u'3h': 0.315}, u'sys': {u'pod': u'n'}, u'dt_txt': u'2018-03-16 18:00:00', u'weather': [{u'main': u'Rain', u'id': 500, u'icon': u'10n', u'description': u'light rain'}], u'dt': 1521223200, u'main': {u'temp_kf': 0, u'temp': 277.678, u'grnd_level': 1034.61, u'temp_max': 277.678, u'sea_level': 1038.64, u'humidity': 100, u'pressure': 1034.61, u'temp_min': 277.678}, u'wind': {u'speed': 6.96, u'deg': 38.5018}}, {u'clouds': {u'all': 92}, u'rain': {u'3h': 0.010000000000001}, u'sys': {u'pod': u'd'}, u'dt_txt': u'2018-03-16 21:00:00', u'weather': [{u'main': u'Rain', u'id': 500, u'icon': u'10d', u'description': u'light rain'}], u'dt': 1521234000, u'main': {u'temp_kf': 0, u'temp': 276.84, u'grnd_level': 1037.35, u'temp_max': 276.84, u'sea_level': 1041.18, u'humidity': 100, u'pressure': 1037.35, u'temp_min': 276.84}, u'wind': {u'speed': 6.81, u'deg': 31.5005}}, {u'clouds': {u'all': 56}, u'rain': {}, u'sys': {u'pod': u'd'}, u'dt_txt': u'2018-03-17 00:00:00', u'weather': [{u'main': u'Clouds', u'id': 803, u'icon': u'04d', u'description': u'broken clouds'}], u'dt': 1521244800, u'main': {u'temp_kf': 0, u'temp': 277.613, u'grnd_level': 1039.15, u'temp_max': 277.613, u'sea_level': 1043.05, u'humidity': 100, u'pressure': 1039.15, u'temp_min': 277.613}, u'wind': {u'speed': 5.91, u'deg': 27.001}}, {u'clouds': {u'all': 20}, u'rain': {}, u'sys': {u'pod': u'd'}, u'dt_txt': u'2018-03-17 03:00:00', u'weather': [{u'main': u'Clouds', u'id': 801, u'icon': u'02d', u'description': u'few clouds'}], u'dt': 1521255600, u'main': {u'temp_kf': 0, u'temp': 280.362, u'grnd_level': 1038.49, u'temp_max': 280.362, u'sea_level': 1042.35, u'humidity': 91, u'pressure': 1038.49, u'temp_min': 280.362}, u'wind': {u'speed': 4.31, u'deg': 26.5104}}, {u'clouds': {u'all': 0}, u'rain': {}, u'sys': {u'pod': u'd'}, u'dt_txt': u'2018-03-17 06:00:00', u'weather': [{u'main': u'Clear', u'id': 800, u'icon': u'01d', u'description': u'clear sky'}], u'dt': 1521266400, u'main': {u'temp_kf': 0, u'temp': 282.569, u'grnd_level': 1036.81, u'temp_max': 282.569, u'sea_level': 1040.64, u'humidity': 82, u'pressure': 1036.81, u'temp_min': 282.569}, u'wind': {u'speed': 2.96, u'deg': 49.0023}}, {u'clouds': {u'all': 0}, u'rain': {}, u'sys': {u'pod': u'n'}, u'dt_txt': u'2018-03-17 09:00:00', u'weather': [{u'main': u'Clear', u'id': 800, u'icon': u'01n', u'description': u'clear sky'}], u'dt': 1521277200, u'main': {u'temp_kf': 0, u'temp': 281.269, u'grnd_level': 1037.2, u'temp_max': 281.269, u'sea_level': 1041.12, u'humidity': 83, u'pressure': 1037.2, u'temp_min': 281.269}, u'wind': {u'speed': 2.52, u'deg': 68.5034}}, {u'clouds': {u'all': 0}, u'rain': {}, u'sys': {u'pod': u'n'}, u'dt_txt': u'2018-03-17 12:00:00', u'weather': [{u'main': u'Clear', u'id': 800, u'icon': u'01n', u'description': u'clear sky'}], u'dt': 1521288000, u'main': {u'temp_kf': 0, u'temp': 278.919, u'grnd_level': 1038.31, u'temp_max': 278.919, u'sea_level': 1042.27, u'humidity': 97, u'pressure': 1038.31, u'temp_min': 278.919}, u'wind': {u'speed': 2.66, u'deg': 61.5004}}, {u'clouds': {u'all': 0}, u'rain': {}, u'sys': {u'pod': u'n'}, u'dt_txt': u'2018-03-17 15:00:00', u'weather': [{u'main': u'Clear', u'id': 800, u'icon': u'01n', u'description': u'clear sky'}], u'dt': 1521298800, u'main': {u'temp_kf': 0, u'temp': 277.636, u'grnd_level': 1037.98, u'temp_max': 277.636, u'sea_level': 1041.98, u'humidity': 100, u'pressure': 1037.98, u'temp_min': 277.636}, u'wind': {u'speed': 2.13, u'deg': 8.50018}}, {u'clouds': {u'all': 32}, u'rain': {}, u'sys': {u'pod': u'n'}, u'dt_txt': u'2018-03-17 18:00:00', u'weather': [{u'main': u'Clouds', u'id': 802, u'icon': u'03n', u'description': u'scattered clouds'}], u'dt': 1521309600, u'main': {u'temp_kf': 0, u'temp': 277.859, u'grnd_level': 1036.83, u'temp_max': 277.859, u'sea_level': 1040.83, u'humidity': 100, u'pressure': 1036.83, u'temp_min': 277.859}, u'wind': {u'speed': 3.57, u'deg': 346.002}}, {u'clouds': {u'all': 92}, u'rain': {}, u'sys': {u'pod': u'd'}, u'dt_txt': u'2018-03-17 21:00:00', u'weather': [{u'main': u'Clouds', u'id': 804, u'icon': u'04d', u'description': u'overcast clouds'}], u'dt': 1521320400, u'main': {u'temp_kf': 0, u'temp': 278.669, u'grnd_level': 1036.75, u'temp_max': 278.669, u'sea_level': 1040.66, u'humidity': 99, u'pressure': 1036.75, u'temp_min': 278.669}, u'wind': {u'speed': 3.36, u'deg': 350.004}}, {u'clouds': {u'all': 92}, u'rain': {}, u'sys': {u'pod': u'd'}, u'dt_txt': u'2018-03-18 00:00:00', u'weather': [{u'main': u'Clouds', u'id': 804, u'icon': u'04d', u'description': u'overcast clouds'}], u'dt': 1521331200, u'main': {u'temp_kf': 0, u'temp': 280.363, u'grnd_level': 1036.94, u'temp_max': 280.363, u'sea_level': 1040.86, u'humidity': 94, u'pressure': 1036.94, u'temp_min': 280.363}, u'wind': {u'speed': 2.31, u'deg': 4.00201}}, {u'clouds': {u'all': 56}, u'rain': {}, u'sys': {u'pod': u'd'}, u'dt_txt': u'2018-03-18 03:00:00', u'weather': [{u'main': u'Clouds', u'id': 803, u'icon': u'04d', u'description': u'broken clouds'}], u'dt': 1521342000, u'main': {u'temp_kf': 0, u'temp': 282.681, u'grnd_level': 1034.93, u'temp_max': 282.681, u'sea_level': 1038.68, u'humidity': 89, u'pressure': 1034.93, u'temp_min': 282.681}, u'wind': {u'speed': 1, u'deg': 68.0013}}, {u'clouds': {u'all': 92}, u'rain': {}, u'sys': {u'pod': u'd'}, u'dt_txt': u'2018-03-18 06:00:00', u'weather': [{u'main': u'Clouds', u'id': 804, u'icon': u'04d', u'description': u'overcast clouds'}], u'dt': 1521352800, u'main': {u'temp_kf': 0, u'temp': 285.541, u'grnd_level': 1031.57, u'temp_max': 285.541, u'sea_level': 1035.43, u'humidity': 80, u'pressure': 1031.57, u'temp_min': 285.541}, u'wind': {u'speed': 2.4, u'deg': 178}}, {u'clouds': {u'all': 76}, u'rain': {}, u'sys': {u'pod': u'n'}, u'dt_txt': u'2018-03-18 09:00:00', u'weather': [{u'main': u'Clouds', u'id': 803, u'icon': u'04n', u'description': u'broken clouds'}], u'dt': 1521363600, u'main': {u'temp_kf': 0, u'temp': 285.196, u'grnd_level': 1030.88, u'temp_max': 285.196, u'sea_level': 1034.75, u'humidity': 82, u'pressure': 1030.88, u'temp_min': 285.196}, u'wind': {u'speed': 1.76, u'deg': 195.5}}, {u'clouds': {u'all': 56}, u'rain': {}, u'sys': {u'pod': u'n'}, u'dt_txt': u'2018-03-18 12:00:00', u'weather': [{u'main': u'Clouds', u'id': 803, u'icon': u'04n', u'description': u'broken clouds'}], u'dt': 1521374400, u'main': {u'temp_kf': 0, u'temp': 285.071, u'grnd_level': 1030, u'temp_max': 285.071, u'sea_level': 1033.97, u'humidity': 87, u'pressure': 1030, u'temp_min': 285.071}, u'wind': {u'speed': 4.46, u'deg': 213.503}}, {u'clouds': {u'all': 76}, u'rain': {}, u'sys': {u'pod': u'n'}, u'dt_txt': u'2018-03-18 15:00:00', u'weather': [{u'main': u'Clouds', u'id': 803, u'icon': u'04n', u'description': u'broken clouds'}], u'dt': 1521385200, u'main': {u'temp_kf': 0, u'temp': 285.768, u'grnd_level': 1028.54, u'temp_max': 285.768, u'sea_level': 1032.48, u'humidity': 91, u'pressure': 1028.54, u'temp_min': 285.768}, u'wind': {u'speed': 5.33, u'deg': 215.505}}, {u'clouds': {u'all': 92}, u'rain': {u'3h': 0.06}, u'sys': {u'pod': u'n'}, u'dt_txt': u'2018-03-18 18:00:00', u'weather': [{u'main': u'Rain', u'id': 500, u'icon': u'10n', u'description': u'light rain'}], u'dt': 1521396000, u'main': {u'temp_kf': 0, u'temp': 285.809, u'grnd_level': 1026.94, u'temp_max': 285.809, u'sea_level': 1030.91, u'humidity': 93, u'pressure': 1026.94, u'temp_min': 285.809}, u'wind': {u'speed': 3.84, u'deg': 236.503}}, {u'clouds': {u'all': 92}, u'rain': {u'3h': 0.5}, u'sys': {u'pod': u'd'}, u'dt_txt': u'2018-03-18 21:00:00', u'weather': [{u'main': u'Rain', u'id': 500, u'icon': u'10d', u'description': u'light rain'}], u'dt': 1521406800, u'main': {u'temp_kf': 0, u'temp': 285.348, u'grnd_level': 1026.33, u'temp_max': 285.348, u'sea_level': 1030.21, u'humidity': 100, u'pressure': 1026.33, u'temp_min': 285.348}, u'wind': {u'speed': 2.84, u'deg': 241.003}}, {u'clouds': {u'all': 92}, u'rain': {u'3h': 1.05}, u'sys': {u'pod': u'd'}, u'dt_txt': u'2018-03-19 00:00:00', u'weather': [{u'main': u'Rain', u'id': 500, u'icon': u'10d', u'description': u'light rain'}], u'dt': 1521417600, u'main': {u'temp_kf': 0, u'temp': 285.663, u'grnd_level': 1026.11, u'temp_max': 285.663, u'sea_level': 1030.03, u'humidity': 100, u'pressure': 1026.11, u'temp_min': 285.663}, u'wind': {u'speed': 1.77, u'deg': 314.5}}, {u'clouds': {u'all': 92}, u'rain': {u'3h': 7.3}, u'sys': {u'pod': u'd'}, u'dt_txt': u'2018-03-19 03:00:00', u'weather': [{u'main': u'Rain', u'id': 501, u'icon': u'10d', u'description': u'moderate rain'}], u'dt': 1521428400, u'main': {u'temp_kf': 0, u'temp': 284.779, u'grnd_level': 1024.65, u'temp_max': 284.779, u'sea_level': 1028.42, u'humidity': 100, u'pressure': 1024.65, u'temp_min': 284.779}, u'wind': {u'speed': 2.07, u'deg': 352.002}}, {u'clouds': {u'all': 92}, u'rain': {u'3h': 0.8}, u'sys': {u'pod': u'd'}, u'dt_txt': u'2018-03-19 06:00:00', u'weather': [{u'main': u'Rain', u'id': 500, u'icon': u'10d', u'description': u'light rain'}], u'dt': 1521439200, u'main': {u'temp_kf': 0, u'temp': 285.414, u'grnd_level': 1023.21, u'temp_max': 285.414, u'sea_level': 1026.93, u'humidity': 100, u'pressure': 1023.21, u'temp_min': 285.414}, u'wind': {u'speed': 1.51, u'deg': 24.5026}}, {u'clouds': {u'all': 92}, u'rain': {u'3h': 1.13}, u'sys': {u'pod': u'n'}, u'dt_txt': u'2018-03-19 09:00:00', u'weather': [{u'main': u'Rain', u'id': 500, u'icon': u'10n', u'description': u'light rain'}], u'dt': 1521450000, u'main': {u'temp_kf': 0, u'temp': 284.913, u'grnd_level': 1023.83, u'temp_max': 284.913, u'sea_level': 1027.57, u'humidity': 100, u'pressure': 1023.83, u'temp_min': 284.913}, u'wind': {u'speed': 2.11, u'deg': 26.0016}}, {u'clouds': {u'all': 92}, u'rain': {u'3h': 0.98}, u'sys': {u'pod': u'n'}, u'dt_txt': u'2018-03-19 12:00:00', u'weather': [{u'main': u'Rain', u'id': 500, u'icon': u'10n', u'description': u'light rain'}], u'dt': 1521460800, u'main': {u'temp_kf': 0, u'temp': 284.42, u'grnd_level': 1025.35, u'temp_max': 284.42, u'sea_level': 1029.16, u'humidity': 100, u'pressure': 1025.35, u'temp_min': 284.42}, u'wind': {u'speed': 3.36, u'deg': 46.504}}, {u'clouds': {u'all': 92}, u'rain': {u'3h': 0.78}, u'sys': {u'pod': u'n'}, u'dt_txt': u'2018-03-19 15:00:00', u'weather': [{u'main': u'Rain', u'id': 500, u'icon': u'10n', u'description': u'light rain'}], u'dt': 1521471600, u'main': {u'temp_kf': 0, u'temp': 284.414, u'grnd_level': 1025.32, u'temp_max': 284.414, u'sea_level': 1029.17, u'humidity': 100, u'pressure': 1025.32, u'temp_min': 284.414}, u'wind': {u'speed': 3.57, u'deg': 44.0014}}, {u'clouds': {u'all': 92}, u'rain': {u'3h': 2.21}, u'sys': {u'pod': u'n'}, u'dt_txt': u'2018-03-19 18:00:00', u'weather': [{u'main': u'Rain', u'id': 500, u'icon': u'10n', u'description': u'light rain'}], u'dt': 1521482400, u'main': {u'temp_kf': 0, u'temp': 283.33, u'grnd_level': 1024.95, u'temp_max': 283.33, u'sea_level': 1028.86, u'humidity': 100, u'pressure': 1024.95, u'temp_min': 283.33}, u'wind': {u'speed': 5.11, u'deg': 24.0013}}], u'cod': u'200', u'cnt': 40}\n"
     ]
    }
   ],
   "source": [
    "city_id1=\"1850144\"\n",
    "api_url= \"http://api.openweathermap.org/data/2.5/forecast?id=\"+str(city_id1)+\"&APPID=fee946e78e969fefcc503b47b1108419\"\n",
    "logging.info(api_url)\n",
    "response = requests.get(api_url)\n",
    "logging.info(response.status_code)\n",
    "print(\"I am here\")\n",
    "#print response.text\n",
    "data1 = response.json()\n",
    "weather_description_ow = str(data1['list'][val]['weather'][0]['description'])    \n",
    "print data1"
   ]
  },
  {
   "cell_type": "markdown",
   "metadata": {},
   "source": [
    "#### Do not execute below cell"
   ]
  },
  {
   "cell_type": "code",
   "execution_count": 46,
   "metadata": {
    "collapsed": false
   },
   "outputs": [],
   "source": [
    "#data1['list']\n",
    "\n",
    "\n",
    "city_id_ow = data1['city']['id']\n",
    "city_name_ow = data1['city']['name']\n",
    "city_country_ow = data1['city']['country']\n",
    "datetime_ow = data1['list'][0]['dt_txt']\n",
    "temp_ow = data1['list'][0]['main']['temp']\n",
    "pressure_ow = data1['list'][0]['main']['pressure']\n",
    "humidity_percent_ow = data1['list'][0]['main']['humidity']\n",
    "clouds_all_ow = data1['list'][0]['clouds']['all']\n",
    "wind_speed_ow = data1['list'][0]['wind']['speed']\n",
    "\n",
    "try:\n",
    "    rain_3h_ow = data1['list'][0]['rain']['3h']\n",
    "except KeyError:\n",
    "    logging.debug(\"Key Error Encountered setting rain to Zero for \"+str(datetime_ow))\n",
    "    rain_3h_ow = 0.0\n",
    "try:\n",
    "    _3h_ow = data1['list'][0]['snow']['3h']\n",
    "except KeyError:    \n",
    "    logging.debug(\"Key Error Encountered setting snow to Zero for \"+str(datetime_ow))\n",
    "    snow_3h_ow = 0.0\n",
    "weather_description_ow = data1['list'][0]['weather'][0]['description']\n",
    "\n",
    "\n",
    "\n"
   ]
  },
  {
   "cell_type": "markdown",
   "metadata": {},
   "source": [
    "##### Writing the OpenWeather data to a file "
   ]
  },
  {
   "cell_type": "code",
   "execution_count": 55,
   "metadata": {
    "collapsed": false
   },
   "outputs": [],
   "source": [
    "\n"
   ]
  },
  {
   "cell_type": "code",
   "execution_count": 48,
   "metadata": {
    "collapsed": false
   },
   "outputs": [
    {
     "name": "stdout",
     "output_type": "stream",
     "text": [
      "<type 'float'>\n"
     ]
    }
   ],
   "source": [
    "print type(snow_3h_ow)\n"
   ]
  },
  {
   "cell_type": "code",
   "execution_count": 59,
   "metadata": {
    "collapsed": false
   },
   "outputs": [],
   "source": [
    "f = open('OpenWeather_data.txt','a+')\n",
    "count = data1['cnt']\n",
    "logging.info(str(datetime.now())+\"The number of rows to be fetched is \"+str(count)+\" at \"+str(datetime_ow))\n",
    "for val in range(0,count,1):\n",
    "    city_country_ow = data1['city']['country']\n",
    "    city_id_ow = str(data1['city']['id'])\n",
    "    city_name_ow = data1['city']['name']    \n",
    "    datetime_ow = str(data1['list'][val]['dt_txt'])\n",
    "    temp_ow = str(data1['list'][val]['main']['temp'])\n",
    "    pressure_ow = str(data1['list'][val]['main']['pressure'])\n",
    "    humidity_percent_ow = str(data1['list'][val]['main']['humidity'])\n",
    "    clouds_all_ow = str(data1['list'][val]['clouds']['all'])\n",
    "    wind_speed_ow = str(data1['list'][val]['wind']['speed'])\n",
    "\n",
    "    try:\n",
    "        rain_3h_ow = str(data1['list'][val]['rain']['3h'])\n",
    "    except KeyError:\n",
    "        logging.debug(str(datetime.now())+\"Key Error Encountered setting rain to Zero for \"+str(datetime_ow))\n",
    "        rain_3h_ow = str(0.0)\n",
    "    try:\n",
    "        snow_3h_ow = str(data1['list'][val]['snow']['3h'])\n",
    "    except KeyError:    \n",
    "        logging.debug(str(datetime.now())+\"Key Error Encountered setting snow to Zero for \"+str(datetime_ow))\n",
    "        snow_3h_ow = str(0.0)\n",
    "    weather_description_ow = str(data1['list'][val]['weather'][0]['description'])    \n",
    "    f.write(city_country_ow+\",\"\n",
    "           +city_id_ow+\",\"\n",
    "           +city_name_ow+\",\"\n",
    "           +datetime_ow+\",\"\n",
    "           +temp_ow+\",\"\n",
    "           +pressure_ow+\",\"\n",
    "           +humidity_percent_ow+\",\"\n",
    "           +clouds_all_ow+\",\"\n",
    "           +wind_speed_ow+\",\"\n",
    "           +rain_3h_ow+\",\"\n",
    "           +snow_3h_ow+\",\"\n",
    "           +weather_description_ow+\"\\n\")\n",
    "    \n",
    "    \n",
    "f.close()"
   ]
  },
  {
   "cell_type": "code",
   "execution_count": 50,
   "metadata": {
    "collapsed": false
   },
   "outputs": [
    {
     "data": {
      "text/plain": [
       "'2018-03-15 01:06:59.360382'"
      ]
     },
     "execution_count": 50,
     "metadata": {},
     "output_type": "execute_result"
    }
   ],
   "source": [
    "str(datetime.now())"
   ]
  },
  {
   "cell_type": "code",
   "execution_count": 51,
   "metadata": {
    "collapsed": false
   },
   "outputs": [],
   "source": []
  },
  {
   "cell_type": "code",
   "execution_count": 52,
   "metadata": {
    "collapsed": false
   },
   "outputs": [
    {
     "data": {
      "text/plain": [
       "6.16"
      ]
     },
     "execution_count": 52,
     "metadata": {},
     "output_type": "execute_result"
    }
   ],
   "source": [
    "data1['list'][val]['wind']['speed']"
   ]
  },
  {
   "cell_type": "code",
   "execution_count": 53,
   "metadata": {
    "collapsed": false
   },
   "outputs": [
    {
     "data": {
      "text/plain": [
       "40"
      ]
     },
     "execution_count": 53,
     "metadata": {},
     "output_type": "execute_result"
    }
   ],
   "source": [
    "data1['cnt']"
   ]
  },
  {
   "cell_type": "code",
   "execution_count": 54,
   "metadata": {
    "collapsed": false
   },
   "outputs": [
    {
     "name": "stdout",
     "output_type": "stream",
     "text": [
      "2018-03-14 21:00:00\n"
     ]
    }
   ],
   "source": [
    "print data1['list'][0]['dt_txt']"
   ]
  },
  {
   "cell_type": "markdown",
   "metadata": {},
   "source": [
    "##### The parameters pulled are the following \n",
    "###### OpenWeather parameter = weatherbit equivalent\n",
    "* city.id = city_id \n",
    "* city.name = city_name\n",
    "* city.country = country_code\n",
    "* list.dt_txt =datetime [This is local date time]\n",
    "* list.main.temp (K) = temp(degrees C) \n",
    "* list.main.pressure(hpa) = pres(mb)\n",
    "* list.main.humidity(%) = rh(%)\n",
    "* list.weather.description = description\n",
    "* list.clouds.all(%) = clouds(%)\n",
    "* list.wind.speed(m/s) = wind_spd(m/s)\n",
    "* list.rain.3h (mm) = precip (mm) [_This is set to zero when the field is not available_]\n",
    "* list.snow.3h(mm) = snow (mm) [_This is set to zero when the field is not available_]\n",
    "\n",
    "##### The data pulled from OpenWeather is at 3 hr level and data from weatherbit is 1 hr level. So reasonable assumptions are made to convert 1 hr level data into 3 hour level data. The assumptions are as follows"
   ]
  },
  {
   "cell_type": "markdown",
   "metadata": {},
   "source": []
  },
  {
   "cell_type": "code",
   "execution_count": 51,
   "metadata": {
    "collapsed": true
   },
   "outputs": [],
   "source": [
    "f.close()"
   ]
  },
  {
   "cell_type": "code",
   "execution_count": null,
   "metadata": {
    "collapsed": true
   },
   "outputs": [],
   "source": []
  }
 ],
 "metadata": {
  "kernelspec": {
   "display_name": "Python 2",
   "language": "python",
   "name": "python2"
  },
  "language_info": {
   "codemirror_mode": {
    "name": "ipython",
    "version": 2
   },
   "file_extension": ".py",
   "mimetype": "text/x-python",
   "name": "python",
   "nbconvert_exporter": "python",
   "pygments_lexer": "ipython2",
   "version": "2.7.13"
  }
 },
 "nbformat": 4,
 "nbformat_minor": 2
}
